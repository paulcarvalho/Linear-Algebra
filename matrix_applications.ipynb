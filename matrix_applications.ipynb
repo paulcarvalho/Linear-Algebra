{
 "cells": [
  {
   "cell_type": "markdown",
   "id": "f3365677",
   "metadata": {},
   "source": [
    "# Matrix applications\n",
    "\n",
    "https://github.com/mikexcohen/LinAlg4DataScience/blob/main/LA4DS_ch07.ipynb"
   ]
  },
  {
   "cell_type": "code",
   "execution_count": null,
   "id": "41e30f5d",
   "metadata": {},
   "outputs": [],
   "source": [
    "# import libraries\n",
    "import numpy as np\n",
    "import matplotlib.pyplot as plt\n",
    "\n",
    "# setup animation\n",
    "import matplotlib.animation as animation\n",
    "from matplotlib import rc\n",
    "rc('animation', html='jshtml')\n",
    "\n",
    "# to read an image from a url (io) and convert it to grayscale (color)\n",
    "from skimage import io,color\n",
    "# convolution\n",
    "from scipy.signal import convolve2d\n",
    "\n",
    "\n",
    "import pandas as pd"
   ]
  },
  {
   "cell_type": "code",
   "execution_count": null,
   "id": "c70bbf9c",
   "metadata": {},
   "outputs": [],
   "source": []
  }
 ],
 "metadata": {
  "kernelspec": {
   "display_name": "venv",
   "language": "python",
   "name": "python3"
  },
  "language_info": {
   "codemirror_mode": {
    "name": "ipython",
    "version": 3
   },
   "file_extension": ".py",
   "mimetype": "text/x-python",
   "name": "python",
   "nbconvert_exporter": "python",
   "pygments_lexer": "ipython3",
   "version": "3.13.7"
  }
 },
 "nbformat": 4,
 "nbformat_minor": 5
}
