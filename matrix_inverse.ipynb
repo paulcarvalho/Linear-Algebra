{
 "cells": [
  {
   "cell_type": "markdown",
   "id": "18d69b5d",
   "metadata": {},
   "source": [
    "# Matrix inverse\n",
    "\n",
    "https://github.com/mikexcohen/LinAlg4DataScience/blob/main/LA4DS_ch08.ipynb"
   ]
  },
  {
   "cell_type": "code",
   "execution_count": 1,
   "id": "dffbd2ac",
   "metadata": {},
   "outputs": [],
   "source": [
    "import numpy as np\n",
    "import matplotlib.pyplot as plt"
   ]
  },
  {
   "cell_type": "code",
   "execution_count": 3,
   "id": "ba1ad00f",
   "metadata": {},
   "outputs": [
    {
     "data": {
      "text/plain": [
       "array([[1., 0.],\n",
       "       [0., 1.]])"
      ]
     },
     "execution_count": 3,
     "metadata": {},
     "output_type": "execute_result"
    }
   ],
   "source": [
    "# Matrix inverse\n",
    "A = np.array([[1,4],[2,7]])\n",
    "Ainv = np.linalg.inv(A)\n",
    "Ainv@A"
   ]
  },
  {
   "cell_type": "code",
   "execution_count": 16,
   "id": "38a1a556",
   "metadata": {},
   "outputs": [
    {
     "name": "stdout",
     "output_type": "stream",
     "text": [
      "[[ 596 -103 -185 -146]\n",
      " [-103  849 -156  106]\n",
      " [-185 -156  765 -170]\n",
      " [-146  106 -170 1048]]\n",
      "[[ 2.01375524e-03  3.16173305e-04  6.29385070e-04  3.50657783e-04]\n",
      " [ 3.16173305e-04  1.28093906e-03  3.30585059e-04 -3.18881469e-05]\n",
      " [ 6.29385070e-04  3.30585059e-04  1.59640804e-03  3.13203789e-04]\n",
      " [ 3.50657783e-04 -3.18881469e-05  3.13203789e-04  1.05708094e-03]]\n"
     ]
    },
    {
     "data": {
      "text/plain": [
       "array([[ 1.00000000e+00,  1.56125113e-17,  4.16333634e-17,\n",
       "         5.89805982e-17],\n",
       "       [-8.67361738e-18,  1.00000000e+00, -9.71445147e-17,\n",
       "         2.77555756e-17],\n",
       "       [-2.25514052e-17, -4.51028104e-17,  1.00000000e+00,\n",
       "         6.93889390e-18],\n",
       "       [-3.12250226e-17,  8.67361738e-18, -2.77555756e-17,\n",
       "         1.00000000e+00]])"
      ]
     },
     "execution_count": 16,
     "metadata": {},
     "output_type": "execute_result"
    }
   ],
   "source": [
    "# One-sided inverse\n",
    "T = np.random.randint(-10,11,size=(20,4))\n",
    "TtT = T.T@T\n",
    "print(TtT)\n",
    "TtT_inv = np.linalg.inv(TtT)\n",
    "print(TtT_inv)\n",
    "\n",
    "(TtT_inv@T.T)@T"
   ]
  },
  {
   "cell_type": "code",
   "execution_count": 25,
   "id": "73b38b50",
   "metadata": {},
   "outputs": [
    {
     "name": "stdout",
     "output_type": "stream",
     "text": [
      "[[ 10   5   6   7  -3   6   3  -1   5  -8]\n",
      " [ 10  -6  -6   1   8 -10   8  -5   1  -9]\n",
      " [ -9  -6  -3   1  -7  -9  10  -9   1   5]\n",
      " [ -3   3  -7  -7   8   3  -6   4   1   3]]\n",
      "[[ 354   63 -160 -153]\n",
      " [  63  508   80  -73]\n",
      " [-160   80  464 -140]\n",
      " [-153  -73 -140  251]]\n",
      "[[ 1.00000000e+00  5.72458747e-17  2.98372438e-16 -5.20417043e-18]\n",
      " [-1.65882932e-17  1.00000000e+00  2.64545330e-17  1.33356867e-17]\n",
      " [-2.05564732e-16 -1.91686944e-16  1.00000000e+00  3.80771803e-16]\n",
      " [-3.50414142e-16 -7.28583860e-17  1.24900090e-16  1.00000000e+00]]\n",
      "[[ 0.00462158  0.02074076 -0.02683047 -0.01806808]\n",
      " [ 0.0446216  -0.01372706  0.0185533   0.04550794]\n",
      " [-0.01979085 -0.01340726 -0.02910808 -0.0600871 ]\n",
      " [ 0.00945259 -0.00238451 -0.00127393 -0.02353057]\n",
      " [-0.00684313  0.02254185 -0.01322124  0.0268828 ]\n",
      " [ 0.03892515 -0.02086703  0.00788487  0.03400851]\n",
      " [ 0.03044224  0.00881211  0.03569691  0.01712556]\n",
      " [-0.02559763 -0.00421476 -0.03338438 -0.01951365]\n",
      " [ 0.06443089 -0.00345693  0.04534956  0.06754785]\n",
      " [-0.01126175 -0.01722801  0.01188646  0.00670682]]\n"
     ]
    },
    {
     "data": {
      "text/plain": [
       "array([[ 1.00000000e+00,  2.77555756e-17,  1.38777878e-16,\n",
       "        -4.16333634e-17],\n",
       "       [ 5.37764278e-17,  1.00000000e+00, -1.04083409e-17,\n",
       "         1.07552856e-16],\n",
       "       [-3.17454396e-16, -6.93889390e-17,  1.00000000e+00,\n",
       "         2.39391840e-16],\n",
       "       [ 4.68375339e-17, -1.38777878e-17,  2.74086309e-16,\n",
       "         1.00000000e+00]])"
      ]
     },
     "execution_count": 25,
     "metadata": {},
     "output_type": "execute_result"
    }
   ],
   "source": [
    "W = np.random.randint(-10,11,size=(4,10))\n",
    "print(W)\n",
    "WWt = W@W.T\n",
    "print(WWt)\n",
    "\n",
    "WWt_inv = np.linalg.inv(WWt)\n",
    "print(WWt_inv@WWt)\n",
    "\n",
    "R = W.T@WWt_inv\n",
    "print(R)\n",
    "\n",
    "W@R"
   ]
  }
 ],
 "metadata": {
  "kernelspec": {
   "display_name": "venv",
   "language": "python",
   "name": "python3"
  },
  "language_info": {
   "codemirror_mode": {
    "name": "ipython",
    "version": 3
   },
   "file_extension": ".py",
   "mimetype": "text/x-python",
   "name": "python",
   "nbconvert_exporter": "python",
   "pygments_lexer": "ipython3",
   "version": "3.13.7"
  }
 },
 "nbformat": 4,
 "nbformat_minor": 5
}
