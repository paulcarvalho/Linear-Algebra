{
 "cells": [
  {
   "cell_type": "markdown",
   "id": "3187a677",
   "metadata": {},
   "source": [
    "# Eigendecomposition\n",
    "\n",
    "https://github.com/mikexcohen/LinAlg4DataScience/blob/main/LA4DS_ch13.ipynb"
   ]
  },
  {
   "cell_type": "code",
   "execution_count": 1,
   "id": "cc7b1a63",
   "metadata": {},
   "outputs": [],
   "source": [
    "import numpy as np\n",
    "import matplotlib.pyplot as plt"
   ]
  },
  {
   "cell_type": "code",
   "execution_count": 5,
   "id": "4b1ae7e6",
   "metadata": {},
   "outputs": [
    {
     "name": "stdout",
     "output_type": "stream",
     "text": [
      "[-0.37228132  5.37228132]\n",
      "[[-0.82456484 -0.41597356]\n",
      " [ 0.56576746 -0.90937671]]\n"
     ]
    }
   ],
   "source": [
    "matrix = np.array([[1,2], [3,4]])\n",
    "\n",
    "# Finding eigenvectors\n",
    "evals,evecs = np.linalg.eig(matrix)\n",
    "\n",
    "print(evals)\n",
    "print(evecs)"
   ]
  },
  {
   "cell_type": "code",
   "execution_count": 7,
   "id": "d773806d",
   "metadata": {},
   "outputs": [
    {
     "name": "stdout",
     "output_type": "stream",
     "text": [
      "[[-0.37228132  0.        ]\n",
      " [ 0.          5.37228132]]\n"
     ]
    }
   ],
   "source": [
    "D = np.diag(evals)\n",
    "print(D)"
   ]
  },
  {
   "cell_type": "code",
   "execution_count": null,
   "id": "9ad038e8",
   "metadata": {},
   "outputs": [
    {
     "name": "stdout",
     "output_type": "stream",
     "text": [
      "[[ 0.30697009 -2.23472698]\n",
      " [-0.21062466 -4.88542751]]\n",
      "[[ 0.30697009 -2.23472698]\n",
      " [-0.21062466 -4.88542751]]\n"
     ]
    }
   ],
   "source": [
    "print(matrix @ evecs)\n",
    "print(evecs @ D)"
   ]
  },
  {
   "cell_type": "code",
   "execution_count": 12,
   "id": "57343a03",
   "metadata": {},
   "outputs": [
    {
     "data": {
      "text/plain": [
       "array([[ 0.30697009, -2.23472698],\n",
       "       [-0.21062466, -4.88542751]])"
      ]
     },
     "execution_count": 12,
     "metadata": {},
     "output_type": "execute_result"
    }
   ],
   "source": [
    "evecs@D"
   ]
  },
  {
   "cell_type": "code",
   "execution_count": null,
   "id": "2bfb188d",
   "metadata": {},
   "outputs": [
    {
     "name": "stdout",
     "output_type": "stream",
     "text": [
      "-3.903127820947816e-16\n",
      "0.0\n",
      "-8.326672684688674e-17\n"
     ]
    }
   ],
   "source": [
    "# Special properties \n",
    "A = np.random.randint(-3, 4, (3,3))\n",
    "A = A.T@A\n",
    "\n",
    "# eigendecomp\n",
    "L,V = np.linalg.eig(A)\n",
    "\n",
    "# all pairwise dot products\n",
    "print(np.dot(V[:,0],V[:,1]))\n",
    "print(np.dot(V[:,0],V[:,2]))\n",
    "print(np.dot(V[:,1],V[:,2]))\n",
    "\n"
   ]
  }
 ],
 "metadata": {
  "kernelspec": {
   "display_name": "venv",
   "language": "python",
   "name": "python3"
  },
  "language_info": {
   "codemirror_mode": {
    "name": "ipython",
    "version": 3
   },
   "file_extension": ".py",
   "mimetype": "text/x-python",
   "name": "python",
   "nbconvert_exporter": "python",
   "pygments_lexer": "ipython3",
   "version": "3.13.7"
  }
 },
 "nbformat": 4,
 "nbformat_minor": 5
}
