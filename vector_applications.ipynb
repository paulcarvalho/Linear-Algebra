{
 "cells": [
  {
   "cell_type": "markdown",
   "id": "911be1ed",
   "metadata": {},
   "source": [
    "# Linear Algebra for Data Science\n",
    "\n",
    "## Chapter 4: Vecctor applications\n",
    "\n",
    "https://github.com/mikexcohen/LinAlg4DataScience/blob/main/LA4DS_ch04.ipynb"
   ]
  },
  {
   "cell_type": "markdown",
   "id": "60c067b3",
   "metadata": {},
   "source": [
    "### Correlation and cosine similarity"
   ]
  },
  {
   "cell_type": "code",
   "execution_count": null,
   "id": "37e78b46",
   "metadata": {},
   "outputs": [],
   "source": [
    "# Exercise 4-1"
   ]
  }
 ],
 "metadata": {
  "kernelspec": {
   "display_name": "venv",
   "language": "python",
   "name": "python3"
  },
  "language_info": {
   "codemirror_mode": {
    "name": "ipython",
    "version": 3
   },
   "file_extension": ".py",
   "mimetype": "text/x-python",
   "name": "python",
   "nbconvert_exporter": "python",
   "pygments_lexer": "ipython3",
   "version": "3.13.7"
  }
 },
 "nbformat": 4,
 "nbformat_minor": 5
}
