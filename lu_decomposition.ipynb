{
 "cells": [
  {
   "cell_type": "markdown",
   "id": "a82d41bb",
   "metadata": {},
   "source": [
    "# Row Reduction and LU Decomposition\n",
    "\n",
    "https://github.com/mikexcohen/LinAlg4DataScience/blob/main/LA4DS_ch10.ipynb"
   ]
  },
  {
   "cell_type": "code",
   "execution_count": 1,
   "id": "0b7ee3d2",
   "metadata": {},
   "outputs": [],
   "source": [
    "import numpy as np\n",
    "import matplotlib.pyplot as plt\n",
    "\n",
    "# sympy library for RREF\n",
    "import sympy as sym\n",
    "\n",
    "# scipy for LU\n",
    "import scipy.linalg\n",
    "\n",
    "\n",
    "# used to create non-regular subplots\n",
    "import matplotlib.gridspec as gridspec"
   ]
  },
  {
   "cell_type": "code",
   "execution_count": 2,
   "id": "307a62fa",
   "metadata": {},
   "outputs": [
    {
     "name": "stdout",
     "output_type": "stream",
     "text": [
      "[[ 0.11352281 -0.3667141   0.85216772 -0.78221107]\n",
      " [-0.57732208  0.15290625 -2.14498741  0.08893802]\n",
      " [ 0.43600567 -1.90690989  0.77993125 -0.15557051]\n",
      " [ 0.01874306 -0.26426096  0.73816239  0.63936982]]\n",
      "[[ 0.11352281 -0.3667141   0.85216772 -0.78221107]\n",
      " [-0.57732208  0.15290625 -2.14498741  0.08893802]\n",
      " [ 0.43600567 -1.90690989  0.77993125 -0.15557051]\n",
      " [ 0.01874306 -0.26426096  0.73816239  0.63936982]]\n",
      "[[ 9.10202121e-01  3.35508185e+00 -2.36325619e+00  8.54480211e-03]\n",
      " [ 1.46609779e+01  1.41053786e+02 -6.76364185e+01  6.94715477e+01]\n",
      " [ 1.41656464e+01  1.36332127e+02 -6.54857548e+01  6.70745465e+01]\n",
      " [-1.59644495e+01 -1.52208446e+02  7.29784167e+01 -7.47925030e+01]]\n"
     ]
    }
   ],
   "source": [
    "# Working with matrix equations\n",
    "A = np.random.randn(4,4)\n",
    "B = np.random.randn(4,4)\n",
    "\n",
    "# Solve for X (AX = B)\n",
    "A_inv = np.linalg.inv(A)\n",
    "X1 = A_inv @ B\n",
    "X2 = B @ A_inv\n",
    "print(B)\n",
    "print(A@X1)\n",
    "print(A@X2)\n"
   ]
  }
 ],
 "metadata": {
  "kernelspec": {
   "display_name": "venv",
   "language": "python",
   "name": "python3"
  },
  "language_info": {
   "codemirror_mode": {
    "name": "ipython",
    "version": 3
   },
   "file_extension": ".py",
   "mimetype": "text/x-python",
   "name": "python",
   "nbconvert_exporter": "python",
   "pygments_lexer": "ipython3",
   "version": "3.13.7"
  }
 },
 "nbformat": 4,
 "nbformat_minor": 5
}
