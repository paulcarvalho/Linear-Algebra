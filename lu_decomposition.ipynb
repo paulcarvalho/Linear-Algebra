{
 "cells": [
  {
   "cell_type": "markdown",
   "id": "a82d41bb",
   "metadata": {},
   "source": [
    "# Row Reduction and LU Decomposition\n",
    "\n",
    "https://github.com/mikexcohen/LinAlg4DataScience/blob/main/LA4DS_ch10.ipynb"
   ]
  },
  {
   "cell_type": "code",
   "execution_count": 2,
   "id": "0b7ee3d2",
   "metadata": {},
   "outputs": [],
   "source": [
    "import numpy as np\n",
    "import matplotlib.pyplot as plt\n",
    "\n",
    "# sympy library for RREF\n",
    "import sympy as sym\n",
    "\n",
    "# scipy for LU\n",
    "import scipy.linalg\n",
    "\n",
    "\n",
    "# used to create non-regular subplots\n",
    "import matplotlib.gridspec as gridspec"
   ]
  },
  {
   "cell_type": "code",
   "execution_count": 2,
   "id": "307a62fa",
   "metadata": {},
   "outputs": [
    {
     "name": "stdout",
     "output_type": "stream",
     "text": [
      "[[ 0.11352281 -0.3667141   0.85216772 -0.78221107]\n",
      " [-0.57732208  0.15290625 -2.14498741  0.08893802]\n",
      " [ 0.43600567 -1.90690989  0.77993125 -0.15557051]\n",
      " [ 0.01874306 -0.26426096  0.73816239  0.63936982]]\n",
      "[[ 0.11352281 -0.3667141   0.85216772 -0.78221107]\n",
      " [-0.57732208  0.15290625 -2.14498741  0.08893802]\n",
      " [ 0.43600567 -1.90690989  0.77993125 -0.15557051]\n",
      " [ 0.01874306 -0.26426096  0.73816239  0.63936982]]\n",
      "[[ 9.10202121e-01  3.35508185e+00 -2.36325619e+00  8.54480211e-03]\n",
      " [ 1.46609779e+01  1.41053786e+02 -6.76364185e+01  6.94715477e+01]\n",
      " [ 1.41656464e+01  1.36332127e+02 -6.54857548e+01  6.70745465e+01]\n",
      " [-1.59644495e+01 -1.52208446e+02  7.29784167e+01 -7.47925030e+01]]\n"
     ]
    }
   ],
   "source": [
    "# Working with matrix equations\n",
    "A = np.random.randn(4,4)\n",
    "B = np.random.randn(4,4)\n",
    "\n",
    "# Solve for X (AX = B)\n",
    "A_inv = np.linalg.inv(A)\n",
    "X1 = A_inv @ B\n",
    "X2 = B @ A_inv\n",
    "print(B)\n",
    "print(A@X1)\n",
    "print(A@X2)\n"
   ]
  },
  {
   "cell_type": "code",
   "execution_count": 5,
   "id": "ce930b0b",
   "metadata": {},
   "outputs": [
    {
     "data": {
      "text/latex": [
       "$\\displaystyle \\left[\\begin{matrix}1 & 0 & 1.33333333333333\\\\0 & 1 & 2.66666666666667\\end{matrix}\\right]$"
      ],
      "text/plain": [
       "Matrix([\n",
       "[1, 0, 1.33333333333333],\n",
       "[0, 1, 2.66666666666667]])"
      ]
     },
     "execution_count": 5,
     "metadata": {},
     "output_type": "execute_result"
    }
   ],
   "source": [
    "# the matrix converted to sympy\n",
    "M = np.array([[1,1,4],[-1/2,1,2]])\n",
    "symMat = sym.Matrix(M)\n",
    "\n",
    "# RREF\n",
    "symMat.rref()[0]"
   ]
  },
  {
   "cell_type": "code",
   "execution_count": null,
   "id": "413ed5ee",
   "metadata": {},
   "outputs": [
    {
     "name": "stdout",
     "output_type": "stream",
     "text": [
      "L: \n",
      "[[1.  0.  0. ]\n",
      " [0.5 1.  0. ]\n",
      " [1.  1.  1. ]]\n",
      "U: \n",
      "[[ 2.  2.  4.]\n",
      " [ 0. -1.  1.]\n",
      " [ 0.  0. -3.]]\n",
      "[[ 1.   0.   0. ]\n",
      " [-0.5  1.   0. ]\n",
      " [-0.5 -1.   1. ]]\n",
      "[[ 9  6 15]\n",
      " [ 6  5 10]\n",
      " [15 10 29]]\n"
     ]
    }
   ],
   "source": [
    "# LU decomposition\n",
    "A = np.array([[2,2,4],[1,0,3],[2,1,2]])\n",
    "_,L,U = scipy.linalg.lu(A)\n",
    "\n",
    "print(\"L: \"), print(L)\n",
    "print(\"U: \"), print(U)\n",
    "\n",
    "print(np.linalg.inv(L))"
   ]
  },
  {
   "cell_type": "code",
   "execution_count": null,
   "id": "a0eef8d1",
   "metadata": {},
   "outputs": [
    {
     "name": "stdout",
     "output_type": "stream",
     "text": [
      "L: \n",
      "[[ 1.          0.          0.          0.          0.          0.        ]\n",
      " [-0.79151911  1.          0.          0.          0.          0.        ]\n",
      " [ 0.72338764 -0.03228024  1.          0.          0.          0.        ]\n",
      " [-0.32008062 -0.36214958 -0.15544233  1.          0.          0.        ]\n",
      " [ 0.75437284 -0.35112617  0.65527739 -0.4         1.          0.        ]\n",
      " [ 0.17486291  0.13063155 -0.8521345   0.          0.          1.        ]]\n",
      "6\n",
      "U: \n",
      "[[ 1.96988284e+00 -1.91429277e-01 -1.22310363e+00  1.30995309e+00\n",
      "  -2.57115506e+00 -6.78099628e-01  1.32668766e+00 -6.08181535e-01]\n",
      " [ 0.00000000e+00  8.25602476e-01 -1.73522499e+00 -1.72438884e+00\n",
      "  -2.84003515e-01 -1.02557373e+00  4.24732002e+00  1.71160230e+00]\n",
      " [ 0.00000000e+00  0.00000000e+00 -5.98328587e-01 -2.91143536e+00\n",
      "   3.81821562e+00 -3.54805481e-02  1.79348116e+00  1.95142001e+00]\n",
      " [ 0.00000000e+00  0.00000000e+00  0.00000000e+00  5.55111512e-16\n",
      "  -7.21644966e-16  1.11022302e-16  0.00000000e+00 -3.33066907e-16]\n",
      " [ 0.00000000e+00  0.00000000e+00  0.00000000e+00  0.00000000e+00\n",
      "   0.00000000e+00  5.55111512e-17 -1.11022302e-16  1.94289029e-16]\n",
      " [ 0.00000000e+00  0.00000000e+00  0.00000000e+00  0.00000000e+00\n",
      "   0.00000000e+00  0.00000000e+00 -1.11022302e-16  0.00000000e+00]]\n",
      "3\n"
     ]
    }
   ],
   "source": [
    "# Exercise 10-2\n",
    "\n",
    "A1 = np.random.randn(6,3)\n",
    "A2 = np.random.randn(3,8)\n",
    "A = A1 @ A2\n",
    "\n",
    "_,L,U = scipy.linalg.lu(A)\n",
    "\n",
    "print(\"L: \"), print(L)\n",
    "print(np.linalg.matrix_rank(L))\n",
    "print(\"U: \"), print(U)\n",
    "print(np.linalg.matrix_rank(U))\n"
   ]
  },
  {
   "cell_type": "code",
   "execution_count": 18,
   "id": "c32c5ae2",
   "metadata": {},
   "outputs": [
    {
     "name": "stdout",
     "output_type": "stream",
     "text": [
      "[[ 1.00000000e+00  7.96995269e-18 -3.10764903e-17 -1.62990484e-17]\n",
      " [-5.45536167e-17  1.00000000e+00  5.68283335e-17  5.85525882e-17]\n",
      " [-6.03917925e-19  1.90894172e-17  1.00000000e+00 -7.82271920e-17]\n",
      " [ 7.85980137e-17  2.92358180e-17 -6.08258566e-18  1.00000000e+00]]\n"
     ]
    }
   ],
   "source": [
    "# Exercise 10-4\n",
    "\n",
    "A = np.random.randn(4,4)\n",
    "\n",
    "P,L,U = scipy.linalg.lu(A)\n",
    "\n",
    "A_inv = np.linalg.inv(U) @ np.linalg.inv(L) @ P.T\n",
    "\n",
    "print(A@A_inv)"
   ]
  }
 ],
 "metadata": {
  "kernelspec": {
   "display_name": "venv",
   "language": "python",
   "name": "python3"
  },
  "language_info": {
   "codemirror_mode": {
    "name": "ipython",
    "version": 3
   },
   "file_extension": ".py",
   "mimetype": "text/x-python",
   "name": "python",
   "nbconvert_exporter": "python",
   "pygments_lexer": "ipython3",
   "version": "3.13.7"
  }
 },
 "nbformat": 4,
 "nbformat_minor": 5
}
