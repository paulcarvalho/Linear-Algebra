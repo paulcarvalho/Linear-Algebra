{
 "cells": [
  {
   "cell_type": "markdown",
   "id": "114b40b5",
   "metadata": {},
   "source": [
    "# Orthogonal Matrices and QR Decomposition\n",
    "\n",
    "https://github.com/mikexcohen/LinAlg4DataScience/blob/main/LA4DS_ch09.ipynb"
   ]
  },
  {
   "cell_type": "code",
   "execution_count": 1,
   "id": "a3ad79bd",
   "metadata": {},
   "outputs": [],
   "source": [
    "import numpy as np\n",
    "import matplotlib.pyplot as plt"
   ]
  },
  {
   "cell_type": "code",
   "execution_count": 13,
   "id": "e4ef123e",
   "metadata": {},
   "outputs": [
    {
     "name": "stdout",
     "output_type": "stream",
     "text": [
      "0.0\n",
      "0.9999999999999999\n",
      "[[1.00000000e+00 2.23711432e-17]\n",
      " [2.23711432e-17 1.00000000e+00]]\n",
      "[[ 1.00000000e+00 -2.23711432e-17]\n",
      " [-2.23711432e-17  1.00000000e+00]]\n"
     ]
    }
   ],
   "source": [
    "Q1 = np.array([ [1,-1], [1,1]] / np.sqrt(2))\n",
    "print(np.dot(Q1[:,0], Q1[:,1]))\n",
    "print(np.linalg.norm(Q1[:,0]))\n",
    "print(Q1.T @ Q1)\n",
    "print(Q1 @ Q1.T)\n"
   ]
  },
  {
   "cell_type": "code",
   "execution_count": 14,
   "id": "08b95a1b",
   "metadata": {},
   "outputs": [
    {
     "name": "stdout",
     "output_type": "stream",
     "text": [
      "[[-0.         -0.46548382  0.          0.        ]\n",
      " [ 0.          1.4342574  -0.          0.        ]\n",
      " [-0.          1.14496801  0.         -0.        ]\n",
      " [-0.          0.64442129  0.         -0.        ]]\n",
      " \n",
      "[[-0.03507033  0.          1.93700692 -0.17349081]\n",
      " [ 1.28780814  0.          0.39962003  0.35321346]\n",
      " [-0.95463863  0.          0.139096   -1.32603381]\n",
      " [-1.19540176  0.          0.26260296  1.44456759]]\n"
     ]
    }
   ],
   "source": [
    "# Exercise 9-2\n",
    "# create the matrix \n",
    "m = 4\n",
    "n = 4\n",
    "A = np.random.randn(m,n)\n",
    "\n",
    "# initialize\n",
    "Q = np.zeros((m,n))\n",
    "\n",
    "# the GS algo\n",
    "for i in range(n):\n",
    "    \n",
    "    # initialize\n",
    "    Q[:,i] = A[:,i]\n",
    "    \n",
    "    # orthogonalize\n",
    "    a = A[:,i] # convenience\n",
    "    for j in range(i): # only to earlier cols\n",
    "        q = Q[:,j] # convenience\n",
    "        Q[:,i]=Q[:,i]-np.dot(a,q)/np.dot(q,q)*q\n",
    "    \n",
    "    # normalize\n",
    "    Q[:,i] = Q[:,i] / np.linalg.norm(Q[:,i])\n",
    "\n",
    "    \n",
    "# \"real\" QR decomposition for comparison\n",
    "Q2,R = np.linalg.qr(A)\n",
    "\n",
    "\n",
    "# note the possible sign differences.\n",
    "# seemingly non-zero columns will be 0 when adding\n",
    "print( np.round( Q-Q2 ,10) ), print(' ')\n",
    "print( np.round( Q+Q2 ,10) )"
   ]
  },
  {
   "cell_type": "code",
   "execution_count": 17,
   "id": "5440af67",
   "metadata": {},
   "outputs": [
    {
     "name": "stdout",
     "output_type": "stream",
     "text": [
      "[[ 1.28196775 -0.47262482  0.84976956]\n",
      " [ 0.07005207  0.57925829 -0.00915306]\n",
      " [-0.29722284  1.04224044  1.92344317]]\n",
      "[[ 1.28196775 -0.47262482  0.84976956]\n",
      " [ 0.07005207  0.57925829 -0.00915306]\n",
      " [-0.29722284  1.04224044  1.92344317]]\n"
     ]
    }
   ],
   "source": [
    "# QR\n",
    "\n",
    "A = np.random.randn(3,3)\n",
    "print(A)\n",
    "Q,R = np.linalg.qr(A)\n",
    "print(Q @ R)"
   ]
  },
  {
   "cell_type": "code",
   "execution_count": 21,
   "id": "e5fd8afc",
   "metadata": {},
   "outputs": [
    {
     "name": "stdout",
     "output_type": "stream",
     "text": [
      "[[ 1]\n",
      " [-1]]\n",
      "[[-0.70710678  0.70710678]\n",
      " [ 0.70710678  0.70710678]]\n",
      "[[-1.41421356]\n",
      " [ 0.        ]]\n"
     ]
    }
   ],
   "source": [
    "A = np.array([ [1,-1] ]).T\n",
    "print(A)\n",
    "Q,R = np.linalg.qr(A, 'complete')\n",
    "print(Q)\n",
    "print(R)"
   ]
  },
  {
   "cell_type": "code",
   "execution_count": 14,
   "id": "8f073755",
   "metadata": {},
   "outputs": [
    {
     "name": "stdout",
     "output_type": "stream",
     "text": [
      "[[ 1.00000000e+01 -8.88178420e-16  8.88178420e-16 -1.90284474e+00\n",
      "   2.22044605e-16 -1.77635684e-15]\n",
      " [ 0.00000000e+00  1.10000000e+01  3.55271368e-15  4.03158204e-01\n",
      "  -2.22044605e-16 -3.55271368e-15]\n",
      " [ 0.00000000e+00  0.00000000e+00  1.20000000e+01  1.65046194e+00\n",
      "   8.88178420e-16  1.11022302e-15]\n",
      " [ 0.00000000e+00  0.00000000e+00  0.00000000e+00  1.24054317e+01\n",
      "   9.63696362e-02  1.55119799e+00]\n",
      " [ 0.00000000e+00  0.00000000e+00  0.00000000e+00  0.00000000e+00\n",
      "   1.39996683e+01 -1.06779948e-02]\n",
      " [ 0.00000000e+00  0.00000000e+00  0.00000000e+00  0.00000000e+00\n",
      "   0.00000000e+00  1.49195734e+01]]\n"
     ]
    }
   ],
   "source": [
    "# Exercie 9-3\n",
    "A = np.random.randn(6,6)\n",
    "U,R = np.linalg.qr(A)\n",
    "\n",
    "Q,R2 = np.linalg.qr(U)\n",
    "\n",
    "# Modulate the norms\n",
    "for i in range(U.shape[0]):\n",
    "  U[:,i] = U[:,i]*(10+i)\n",
    "\n",
    "Q,R = np.linalg.qr(U)\n",
    "\n",
    "U[0,3] = 0 # this is q_{1,4}\n",
    "q,r = np.linalg.qr(U)\n",
    "print(r)"
   ]
  },
  {
   "cell_type": "code",
   "execution_count": 15,
   "id": "c706f5c5",
   "metadata": {},
   "outputs": [
    {
     "data": {
      "text/plain": [
       "array([[-3.582,  0.385, -1.16 ,  0.199],\n",
       "       [ 0.   , -2.87 ,  0.21 ,  0.584],\n",
       "       [ 0.   ,  0.   ,  2.816,  0.093],\n",
       "       [ 0.   ,  0.   ,  0.   ,  1.875],\n",
       "       [ 0.   ,  0.   ,  0.   ,  0.   ],\n",
       "       [ 0.   ,  0.   ,  0.   ,  0.   ],\n",
       "       [ 0.   ,  0.   ,  0.   ,  0.   ],\n",
       "       [ 0.   ,  0.   ,  0.   ,  0.   ],\n",
       "       [ 0.   ,  0.   ,  0.   ,  0.   ],\n",
       "       [ 0.   ,  0.   ,  0.   ,  0.   ]])"
      ]
     },
     "execution_count": 15,
     "metadata": {},
     "output_type": "execute_result"
    }
   ],
   "source": [
    "# Exercise 9-7\n",
    "# the matrix\n",
    "A = np.random.randn(10,4)\n",
    "\n",
    "# get R\n",
    "_,R = np.linalg.qr(A,'complete')\n",
    "\n",
    "# examine R\n",
    "np.round(R,3)"
   ]
  },
  {
   "cell_type": "code",
   "execution_count": 25,
   "id": "36f9c116",
   "metadata": {},
   "outputs": [
    {
     "name": "stdout",
     "output_type": "stream",
     "text": [
      "Full inverse of R submatrix:\n",
      "[[-0.279 -0.037 -0.112  0.047]\n",
      " [-0.    -0.348  0.026  0.107]\n",
      " [ 0.     0.     0.355 -0.018]\n",
      " [ 0.     0.     0.     0.533]]\n",
      "\n",
      "\n",
      "\n",
      "Left inverse of R:\n",
      "[[-0.279 -0.037 -0.112  0.047  0.     0.     0.     0.     0.     0.   ]\n",
      " [ 0.    -0.348  0.026  0.107  0.     0.     0.     0.     0.     0.   ]\n",
      " [-0.     0.     0.355 -0.018  0.     0.     0.     0.     0.     0.   ]\n",
      " [ 0.    -0.     0.     0.533  0.     0.     0.     0.     0.     0.   ]]\n"
     ]
    }
   ],
   "source": [
    "R_sq = R[0:4,]\n",
    "Rsub_inv = np.linalg.inv(R_sq)\n",
    "\n",
    "Rleftinv = np.linalg.pinv(R)\n",
    "\n",
    "# print out both\n",
    "print('Full inverse of R submatrix:')\n",
    "print(np.round(Rsub_inv,3)), print(f'\\n\\n')\n",
    "\n",
    "print('Left inverse of R:')\n",
    "print(np.round(Rleftinv,3))"
   ]
  }
 ],
 "metadata": {
  "kernelspec": {
   "display_name": "venv",
   "language": "python",
   "name": "python3"
  },
  "language_info": {
   "codemirror_mode": {
    "name": "ipython",
    "version": 3
   },
   "file_extension": ".py",
   "mimetype": "text/x-python",
   "name": "python",
   "nbconvert_exporter": "python",
   "pygments_lexer": "ipython3",
   "version": "3.13.6"
  }
 },
 "nbformat": 4,
 "nbformat_minor": 5
}
