{
 "cells": [
  {
   "cell_type": "markdown",
   "id": "114b40b5",
   "metadata": {},
   "source": [
    "# Orthogonal Matrices and QR Decomposition\n",
    "\n",
    "https://github.com/mikexcohen/LinAlg4DataScience/blob/main/LA4DS_ch09.ipynb"
   ]
  },
  {
   "cell_type": "code",
   "execution_count": 1,
   "id": "a3ad79bd",
   "metadata": {},
   "outputs": [],
   "source": [
    "import numpy as np\n",
    "import matplotlib.pyplot as plt"
   ]
  },
  {
   "cell_type": "code",
   "execution_count": 13,
   "id": "e4ef123e",
   "metadata": {},
   "outputs": [
    {
     "name": "stdout",
     "output_type": "stream",
     "text": [
      "0.0\n",
      "0.9999999999999999\n",
      "[[1.00000000e+00 2.23711432e-17]\n",
      " [2.23711432e-17 1.00000000e+00]]\n",
      "[[ 1.00000000e+00 -2.23711432e-17]\n",
      " [-2.23711432e-17  1.00000000e+00]]\n"
     ]
    }
   ],
   "source": [
    "Q1 = np.array([ [1,-1], [1,1]] / np.sqrt(2))\n",
    "print(np.dot(Q1[:,0], Q1[:,1]))\n",
    "print(np.linalg.norm(Q1[:,0]))\n",
    "print(Q1.T @ Q1)\n",
    "print(Q1 @ Q1.T)\n"
   ]
  },
  {
   "cell_type": "code",
   "execution_count": 14,
   "id": "08b95a1b",
   "metadata": {},
   "outputs": [
    {
     "name": "stdout",
     "output_type": "stream",
     "text": [
      "[[-0.         -0.46548382  0.          0.        ]\n",
      " [ 0.          1.4342574  -0.          0.        ]\n",
      " [-0.          1.14496801  0.         -0.        ]\n",
      " [-0.          0.64442129  0.         -0.        ]]\n",
      " \n",
      "[[-0.03507033  0.          1.93700692 -0.17349081]\n",
      " [ 1.28780814  0.          0.39962003  0.35321346]\n",
      " [-0.95463863  0.          0.139096   -1.32603381]\n",
      " [-1.19540176  0.          0.26260296  1.44456759]]\n"
     ]
    }
   ],
   "source": [
    "# Exercise 9-2\n",
    "# create the matrix \n",
    "m = 4\n",
    "n = 4\n",
    "A = np.random.randn(m,n)\n",
    "\n",
    "# initialize\n",
    "Q = np.zeros((m,n))\n",
    "\n",
    "# the GS algo\n",
    "for i in range(n):\n",
    "    \n",
    "    # initialize\n",
    "    Q[:,i] = A[:,i]\n",
    "    \n",
    "    # orthogonalize\n",
    "    a = A[:,i] # convenience\n",
    "    for j in range(i): # only to earlier cols\n",
    "        q = Q[:,j] # convenience\n",
    "        Q[:,i]=Q[:,i]-np.dot(a,q)/np.dot(q,q)*q\n",
    "    \n",
    "    # normalize\n",
    "    Q[:,i] = Q[:,i] / np.linalg.norm(Q[:,i])\n",
    "\n",
    "    \n",
    "# \"real\" QR decomposition for comparison\n",
    "Q2,R = np.linalg.qr(A)\n",
    "\n",
    "\n",
    "# note the possible sign differences.\n",
    "# seemingly non-zero columns will be 0 when adding\n",
    "print( np.round( Q-Q2 ,10) ), print(' ')\n",
    "print( np.round( Q+Q2 ,10) )"
   ]
  },
  {
   "cell_type": "code",
   "execution_count": 17,
   "id": "5440af67",
   "metadata": {},
   "outputs": [
    {
     "name": "stdout",
     "output_type": "stream",
     "text": [
      "[[ 1.28196775 -0.47262482  0.84976956]\n",
      " [ 0.07005207  0.57925829 -0.00915306]\n",
      " [-0.29722284  1.04224044  1.92344317]]\n",
      "[[ 1.28196775 -0.47262482  0.84976956]\n",
      " [ 0.07005207  0.57925829 -0.00915306]\n",
      " [-0.29722284  1.04224044  1.92344317]]\n"
     ]
    }
   ],
   "source": [
    "# QR\n",
    "\n",
    "A = np.random.randn(3,3)\n",
    "print(A)\n",
    "Q,R = np.linalg.qr(A)\n",
    "print(Q @ R)"
   ]
  },
  {
   "cell_type": "code",
   "execution_count": 21,
   "id": "e5fd8afc",
   "metadata": {},
   "outputs": [
    {
     "name": "stdout",
     "output_type": "stream",
     "text": [
      "[[ 1]\n",
      " [-1]]\n",
      "[[-0.70710678  0.70710678]\n",
      " [ 0.70710678  0.70710678]]\n",
      "[[-1.41421356]\n",
      " [ 0.        ]]\n"
     ]
    }
   ],
   "source": [
    "A = np.array([ [1,-1] ]).T\n",
    "print(A)\n",
    "Q,R = np.linalg.qr(A, 'complete')\n",
    "print(Q)\n",
    "print(R)"
   ]
  }
 ],
 "metadata": {
  "kernelspec": {
   "display_name": "venv",
   "language": "python",
   "name": "python3"
  },
  "language_info": {
   "codemirror_mode": {
    "name": "ipython",
    "version": 3
   },
   "file_extension": ".py",
   "mimetype": "text/x-python",
   "name": "python",
   "nbconvert_exporter": "python",
   "pygments_lexer": "ipython3",
   "version": "3.13.7"
  }
 },
 "nbformat": 4,
 "nbformat_minor": 5
}
