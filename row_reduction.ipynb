{
 "cells": [
  {
   "cell_type": "markdown",
   "id": "a82d41bb",
   "metadata": {},
   "source": [
    "# Row Reduction and LU Decomposition\n",
    "\n",
    "https://github.com/mikexcohen/LinAlg4DataScience/blob/main/LA4DS_ch10.ipynb"
   ]
  },
  {
   "cell_type": "code",
   "execution_count": null,
   "id": "0b7ee3d2",
   "metadata": {},
   "outputs": [],
   "source": []
  }
 ],
 "metadata": {
  "language_info": {
   "name": "python"
  }
 },
 "nbformat": 4,
 "nbformat_minor": 5
}
