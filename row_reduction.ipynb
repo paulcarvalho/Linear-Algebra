{
 "cells": [
  {
   "cell_type": "markdown",
   "id": "a82d41bb",
   "metadata": {},
   "source": [
    "# Row Reduction and LU Decomposition\n",
    "\n",
    "https://github.com/mikexcohen/LinAlg4DataScience/blob/main/LA4DS_ch10.ipynb"
   ]
  },
  {
   "cell_type": "code",
   "execution_count": 2,
   "id": "0b7ee3d2",
   "metadata": {},
   "outputs": [],
   "source": [
    "import numpy as np\n",
    "import matplotlib.pyplot as plt\n",
    "\n",
    "# sympy library for RREF\n",
    "import sympy as sym\n",
    "\n",
    "# scipy for LU\n",
    "import scipy.linalg\n",
    "\n",
    "\n",
    "# used to create non-regular subplots\n",
    "import matplotlib.gridspec as gridspec"
   ]
  },
  {
   "cell_type": "code",
   "execution_count": 5,
   "id": "307a62fa",
   "metadata": {},
   "outputs": [
    {
     "name": "stdout",
     "output_type": "stream",
     "text": [
      "[[-0.6155153   0.8505337  -0.12123128 -0.696858  ]\n",
      " [-0.24761165  0.37825983 -2.51498157 -1.06538607]\n",
      " [ 2.12118469  0.63566275 -0.74433933  1.43811142]\n",
      " [ 1.5031443   0.50205928  3.05350629 -0.31153646]]\n",
      "[[-0.6155153   0.8505337  -0.12123128 -0.696858  ]\n",
      " [-0.24761165  0.37825983 -2.51498157 -1.06538607]\n",
      " [ 2.12118469  0.63566275 -0.74433933  1.43811142]\n",
      " [ 1.5031443   0.50205928  3.05350629 -0.31153646]]\n",
      "[[-0.28372054  0.538995    2.98292465  1.34709622]\n",
      " [-1.20653393 -1.30797414 -2.70534801 -2.78119943]\n",
      " [-0.30348121 -1.15294087  0.05003131 -3.61867994]\n",
      " [ 1.24833955 -0.45833933  1.13817171  0.2485321 ]]\n"
     ]
    }
   ],
   "source": [
    "# Working with matrix equations\n",
    "A = np.random.randn(4,4)\n",
    "B = np.random.randn(4,4)\n",
    "\n",
    "# Solve for X (AX = B)\n",
    "A_inv = np.linalg.inv(A)\n",
    "X1 = A_inv @ B\n",
    "X2 = B @ A_inv\n",
    "print(B)\n",
    "print(A@X1)\n",
    "print(A@X2)\n"
   ]
  }
 ],
 "metadata": {
  "kernelspec": {
   "display_name": "venv",
   "language": "python",
   "name": "python3"
  },
  "language_info": {
   "codemirror_mode": {
    "name": "ipython",
    "version": 3
   },
   "file_extension": ".py",
   "mimetype": "text/x-python",
   "name": "python",
   "nbconvert_exporter": "python",
   "pygments_lexer": "ipython3",
   "version": "3.13.7"
  }
 },
 "nbformat": 4,
 "nbformat_minor": 5
}
