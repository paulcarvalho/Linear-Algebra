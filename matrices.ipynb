{
 "cells": [
  {
   "cell_type": "markdown",
   "id": "897cd486",
   "metadata": {},
   "source": [
    "# Matrices part I\n",
    "\n",
    "https://github.com/mikexcohen/LinAlg4DataScience/blob/main/LA4DS_ch05.ipynb"
   ]
  },
  {
   "cell_type": "code",
   "execution_count": null,
   "id": "c270555d",
   "metadata": {},
   "outputs": [],
   "source": [
    "import numpy as np\n",
    "import matplotlib.pyplot as plt\n",
    "\n",
    "# for null spaces\n",
    "import scipy.linalg\n",
    "\n",
    "# a pretty-looking matrix from scipy\n",
    "from scipy.linalg import toeplitz"
   ]
  },
  {
   "cell_type": "code",
   "execution_count": null,
   "id": "40ab3289",
   "metadata": {},
   "outputs": [],
   "source": [
    "# create some matrices\n",
    "A = np.random.randn(3,4)\n",
    "B = np.random.randn(100,100)\n",
    "C = -toeplitz(np.arange(8),np.arange(10))\n",
    "\n",
    "\n",
    "# and show them as images\n",
    "fig,axs = plt.subplots(1,3,figsize=(10,3))\n",
    "\n",
    "axs[0].imshow(A,cmap='gray')\n",
    "axs[1].imshow(B,cmap='gray')\n",
    "axs[2].imshow(C,cmap='gray')\n",
    "\n",
    "for i in range(3): axs[i].axis('off')\n",
    "plt.tight_layout()\n",
    "plt.show()\n",
    "     "
   ]
  },
  {
   "cell_type": "code",
   "execution_count": 10,
   "id": "4297a4f2",
   "metadata": {},
   "outputs": [
    {
     "name": "stdout",
     "output_type": "stream",
     "text": [
      "[[ 0  1  2  3  4  5  6  7  8  9]\n",
      " [10 11 12 13 14 15 16 17 18 19]\n",
      " [20 21 22 23 24 25 26 27 28 29]\n",
      " [30 31 32 33 34 35 36 37 38 39]\n",
      " [40 41 42 43 44 45 46 47 48 49]\n",
      " [50 51 52 53 54 55 56 57 58 59]]\n",
      "[[10 11 12 13 14]\n",
      " [20 21 22 23 24]\n",
      " [30 31 32 33 34]]\n"
     ]
    }
   ],
   "source": [
    "A = np.arange(60).reshape(6,10)\n",
    "print(A)\n",
    "sub = A[1:4,0:5]\n",
    "print(sub)"
   ]
  },
  {
   "cell_type": "code",
   "execution_count": 12,
   "id": "46fbc05a",
   "metadata": {},
   "outputs": [
    {
     "name": "stdout",
     "output_type": "stream",
     "text": [
      "[[-0.0239512   0.59460164 -0.78825006  0.20672011]\n",
      " [-0.77692538  0.08666295 -1.67386125  0.37226972]\n",
      " [ 0.47153634 -0.21478004 -0.60504318 -0.66887303]\n",
      " [-0.16005771  1.21862553  0.77661761 -0.54416189]]\n"
     ]
    }
   ],
   "source": [
    "A = np.random.randn(4,4)\n",
    "print(A)"
   ]
  },
  {
   "cell_type": "code",
   "execution_count": 13,
   "id": "647ed866",
   "metadata": {},
   "outputs": [
    {
     "data": {
      "text/plain": [
       "array([-0.0239512 ,  0.08666295, -0.60504318, -0.54416189])"
      ]
     },
     "execution_count": 13,
     "metadata": {},
     "output_type": "execute_result"
    }
   ],
   "source": [
    "np.diag(A)"
   ]
  },
  {
   "cell_type": "code",
   "execution_count": 15,
   "id": "abcdd7c1",
   "metadata": {},
   "outputs": [
    {
     "data": {
      "text/plain": [
       "array([[1., 0., 0., 0.],\n",
       "       [0., 1., 0., 0.],\n",
       "       [0., 0., 1., 0.],\n",
       "       [0., 0., 0., 1.]])"
      ]
     },
     "execution_count": 15,
     "metadata": {},
     "output_type": "execute_result"
    }
   ],
   "source": [
    "np.eye(4,4)"
   ]
  },
  {
   "cell_type": "code",
   "execution_count": 18,
   "id": "b79e1783",
   "metadata": {},
   "outputs": [
    {
     "name": "stdout",
     "output_type": "stream",
     "text": [
      "[[-0.0239512   0.59460164 -0.78825006  0.20672011]\n",
      " [-0.77692538  0.08666295 -1.67386125  0.37226972]\n",
      " [ 0.47153634 -0.21478004 -0.60504318 -0.66887303]\n",
      " [-0.16005771  1.21862553  0.77661761 -0.54416189]]\n"
     ]
    },
    {
     "data": {
      "text/plain": [
       "array([[-0.0239512 ,  0.59460164, -0.78825006,  0.20672011],\n",
       "       [-0.77692538,  0.08666295, -1.67386125,  0.37226972],\n",
       "       [ 0.47153634, -0.21478004, -0.60504318, -0.66887303],\n",
       "       [-0.16005771,  1.21862553,  0.77661761, -0.54416189]])"
      ]
     },
     "execution_count": 18,
     "metadata": {},
     "output_type": "execute_result"
    }
   ],
   "source": [
    "print(A)\n",
    "A@np.eye(4,4)"
   ]
  },
  {
   "cell_type": "code",
   "execution_count": 30,
   "id": "a699327b",
   "metadata": {},
   "outputs": [
    {
     "name": "stdout",
     "output_type": "stream",
     "text": [
      "[[2 3]\n",
      " [2 1]]\n",
      "[[6.5]\n",
      " [3.5]]\n"
     ]
    }
   ],
   "source": [
    "M = np.array([[2,3],[2,1]])\n",
    "print(M)\n",
    "x = np.array([[1,1.5]]).T\n",
    "x.shape\n",
    "\n",
    "Mx = M@x\n",
    "\n",
    "print(Mx)"
   ]
  },
  {
   "cell_type": "code",
   "execution_count": 31,
   "id": "e1814edf",
   "metadata": {},
   "outputs": [
    {
     "data": {
      "image/png": "[encoded data removed]",
      "text/plain": [
       "<Figure size 640x480 with 1 Axes>"
      ]
     },
     "metadata": {},
     "output_type": "display_data"
    }
   ],
   "source": [
    "plt.plot([0,x[0,0]],[0,x[1,0]],'k',linewidth=4,label='x')\n",
    "plt.plot([0,Mx[0,0]],[0,Mx[1,0]],'--',linewidth=3,color=[.7,.7,.7],label='Mx')\n",
    "plt.xlim([-7,7])\n",
    "plt.ylim([-7,7])\n",
    "plt.legend()\n",
    "plt.grid()\n",
    "plt.show()"
   ]
  },
  {
   "cell_type": "code",
   "execution_count": 33,
   "id": "276a5555",
   "metadata": {},
   "outputs": [
    {
     "data": {
      "text/plain": [
       "array([[ 8,  8],\n",
       "       [ 8, 10]])"
      ]
     },
     "execution_count": 33,
     "metadata": {},
     "output_type": "execute_result"
    }
   ],
   "source": [
    "M.T @ M"
   ]
  },
  {
   "cell_type": "code",
   "execution_count": 34,
   "id": "48f976eb",
   "metadata": {},
   "outputs": [
    {
     "data": {
      "text/plain": [
       "array([[ 0.85215171, -0.37789907,  0.90974134, -0.52247763],\n",
       "       [-0.37789907,  1.89224022,  0.46260072, -0.36429089],\n",
       "       [ 0.90974134,  0.46260072,  4.39236181, -0.80398364],\n",
       "       [-0.52247763, -0.36429089, -0.80398364,  0.92482125]])"
      ]
     },
     "execution_count": 34,
     "metadata": {},
     "output_type": "execute_result"
    }
   ],
   "source": [
    "A.T @ A"
   ]
  },
  {
   "cell_type": "code",
   "execution_count": null,
   "id": "7054aefa",
   "metadata": {},
   "outputs": [
    {
     "name": "stdout",
     "output_type": "stream",
     "text": [
      "[[ 0  1  2  3]\n",
      " [ 4  5  6  7]\n",
      " [ 8  9 10 11]]\n"
     ]
    },
    {
     "data": {
      "text/plain": [
       "array([[0, 1, 2],\n",
       "       [4, 5, 6]])"
      ]
     },
     "execution_count": 41,
     "metadata": {},
     "output_type": "execute_result"
    }
   ],
   "source": [
    "# Exercise 5-1, 5-2\n",
    "A = np.arange(12).reshape(3,4)\n",
    "print(A)\n",
    "A[0:2,0:3]"
   ]
  },
  {
   "cell_type": "code",
   "execution_count": 43,
   "id": "bdc64c5c",
   "metadata": {},
   "outputs": [
    {
     "name": "stdout",
     "output_type": "stream",
     "text": [
      "[[-6.97207384 -2.86540067 -2.59478424  4.86995867]\n",
      " [-1.72813887  2.11159621  2.15039726 -1.99854809]\n",
      " [ 1.78123374  1.32941339  2.13227677 -4.06678577]]\n",
      "[[-6.97207384 -2.86540067 -2.59478424  4.86995867]\n",
      " [-1.72813887  2.11159621  2.15039726 -1.99854809]\n",
      " [ 1.78123374  1.32941339  2.13227677 -4.06678577]]\n",
      "[[-6.97207384 -2.86540067 -2.59478424  4.86995867]\n",
      " [-1.72813887  2.11159621  2.15039726 -1.99854809]\n",
      " [ 1.78123374  1.32941339  2.13227677 -4.06678577]]\n"
     ]
    }
   ],
   "source": [
    "# Exercise 5-5\n",
    "A = np.random.randn(12).reshape(3,4)\n",
    "B = np.random.randn(12).reshape(3,4)\n",
    "sigma = 2\n",
    "\n",
    "print(sigma * (A + B))\n",
    "print((sigma * A) + (sigma * B))\n",
    "print((A * sigma) + (B * sigma))"
   ]
  },
  {
   "cell_type": "code",
   "execution_count": 45,
   "id": "ac519ae1",
   "metadata": {},
   "outputs": [
    {
     "name": "stdout",
     "output_type": "stream",
     "text": [
      "[[ 1.83998476 -2.31314254]\n",
      " [ 2.15480824  3.62576719]\n",
      " [ 2.17420519 -5.367339  ]]\n",
      "[[ 1.83998476 -2.31314254]\n",
      " [ 2.15480824  3.62576719]\n",
      " [ 2.17420519 -5.367339  ]]\n"
     ]
    }
   ],
   "source": [
    "# Exercise 5-7\n",
    "L = np.random.randn(12).reshape(2,6)\n",
    "I = np.random.randn(18).reshape(6,3)\n",
    "\n",
    "print( (L@I).T )\n",
    "print( (I.T@L.T) )"
   ]
  },
  {
   "cell_type": "code",
   "execution_count": 46,
   "id": "8701fdec",
   "metadata": {},
   "outputs": [
    {
     "data": {
      "application/vnd.plotly.v1+json": {
       "config": {
        "plotlyServerURL": "https://plot.ly"
       },
       "data": [
        {
         "mode": "markers",
         "type": "scatter3d",
         "x": {
          "bdata": "6LtHttzsIUCqm+UV7uYGQKJQDyDIIABAqyz7DuuhEsAu1e8FmdIPwDnIE33rHyFANZzn8iyFGsDNBUUhwNEZQD7jw2bJ9CXA5DQAuEcgIUDh7Dt5h5AfQPQTIB7tShtALDtOl977JUBu/rQAxRcWwPj0mvyoiPm/yOF53I1u+7+gWXkUFZn1P/BaYn8J3fO/CuiBSqpVB8CQq0asOokcQMgClVQWq+S/pk46S6WUAsCOlQ35GRYSQF50CskZryfAbsnSHIQIIkARZfA6pWshQFHIL6p1iBFA01t2QDSqF8AIPBpga8oUQGajYCsF+gbA5aaOtA20FED4Umgj/eMdwAzg97pSKQjAZMTRCFBs8D9ZfH+ClOwgwNm3RpXqniJAeDcG4fOvA8DS4UEGrb0EQE5Y7X5q4RZAQjML68eVI0DIjEWwc/ccwBIF7XOVvSRARGcn+uy5/7+x/1RqLlojwBoh6SetzgnA0vvxP2npFkCknbrBGDsjQC66Mv9HdQDAlDRSZvmIGkCUoZYXWRcgQCalhvFy7CZAzGtPPG4OGsDUFw2EWUwfQGPUSLIA9x1A6MjlXtxC6z9gb41S62INwGz3a3WMABPAtINnyiqUBsAQNvif1VYgwKATHkFOdQfAtA/VVsvoJcDhJwWz9sMRwJ5MCdabPgZAWG3OQpKh6T8CxLwRx/wTQPuV3yPX1SLAmJDUClg25b9AyH1DMy0VwHDaFXQfiiVA7Dc185xY/r8OStvDr1IkQMNoXKOffxXAoFGQrQhkJkA0JsoYjoMgwH7inLD6lwPAbkhlrepED8BQ/E//cajZP9i/sia5AyHA7loTcdG1EcBkS4WC/b8mQIKidZVA1R1ARjScWqKqJUBk04XLklcgQECcSXysEB9AcUbsP5c2HsA/Xg1AlvgZQIn4yyaBHBvAoLptOOGv8z/w6uMu40r9vwEWZHFQMxRAkHgT03Fd6r+6CxjzDCcgwNz/TaXKGPc/zeEeds8vFEBahboUC9gmQN7dX8tfoAXAjDLLcS20HEDimvLCyOYmQIg0Fjc3eCBAq18muirUFcA=",
          "dtype": "f8"
         },
         "y": {
          "bdata": "WLcwdYQILUBQscG4GywhQBirFVkkRua/O8gZM3lQH8AQ75xV3j/fP7Uele82DihAfH24RIxGKcDa9gKc8IkuQFaa7Lez6SrAHHltFyYPIECigYZnJKIsQI71mkDfOTJAtbGWbCBvMkAAA2YE90cuwABdFX6tlam/3EXT78Z/FsACdpgCqKASwIDOmPuhzNA/aMVddJIXIsC0ecBi4A4aQIjEvlKzxSHAiuMaKitHJsBEyOvJ+IobQPU5roSp7DrAokFFxClxMkBtphxd50UzQD5FUxMs7gBAy2wjvnujMMDrCUHsimciQMzcZYR8fPc/iOFVhbs36j+wQiE4EJspwIAckTNs4bk/H0muh4k6FsCkGlR9C5YwwF5a1kIGAjdAcGX5TbAh8T8M31n9iNz6P3J+jvhtlS1AjRwA6SJbN0DccU8M92MpwB6hSF+xtihAZK0uxEi1+7+5Xlz3HUwnwDaK79bwUyfA4ZfTayfoLkAT6vaE/pM2QEjcyAsK5uU/3uo+zZR9H0B4djCiR90gQLqilKfWRCZAhOTdoXi7B8BzrZtVChUsQLkvUeWf1xhAVGEyUelj8j8ahSjAbDEgwDCVKwcQaATAVNjK0tadA0DcgYzDGdwjwJahaPMfSxDAMbp8FkNyMcCQfjuvbpfdv2ylRMZXC/i/16ixyrrDFUBee1I51PAZQHm+92ySYTfAb02tEny8GsBKpmo3yN4owOwe7qM66yZAHANOKDeT/j/OkYqYTaUoQHSfENERiynAmBpeVID7NEB9nHBBCg0zwHy3JbGQe/K/RtJQZLlOJ8A0xq8gn0r2P5jeInO1YSrAoJr3qW2F3j+7wTsx/9kyQHyyECUhdTNAvLGDLULIK0D0w6W9BMQjQIjeBV/a8TJAXE6cxcJdIsASJeNGN7MlQN9vZMsSgx/A4IlC+XXT8z/4xSoTerAdwOraRa9dQg9AwIQIxV01GEBRQSeG5LcwwLxXajSWL/G/TZ8GFvy8FkBCvGCZuMQwQEaRlt5WEifAiXkgcd8IKEBAX/HNrSg6QIR2R5aZZiJA59YQPQzoFMA=",
          "dtype": "f8"
         },
         "z": {
          "bdata": "OvPuXSOIBECFpT+4mBMTQJ4rr+uTEgvAXN2AfFTi+b9lsvmTDisXQJDmqzfPj+M/tqrNNblhDsD55akL4aYaQORPbzNx5fI/+oqgdzsaC8Au5CSwfVwOQCUzyxfLQSJAElIUk7U5DkAYCDBd5xofwNxNxEdvnwBAiEpV99m1CsDik2sJr9MZwOCsvig1r/4/c0W6YbOgFMAY1pCw2/oHwKJZssvGDCDAqB6yu54VIMDgBniZBmzrPxgu+acwRSbAY+3ibvGtGUDcNpwsOqMeQJp7gbIN0w3AtPH3+ymAIcDs3GhbDS0CQHc5r+h3MBVAq3cTgMVTGMCALcQs87YGwHqEcy0SgxBA69+eivmzG8D2HqfuoTYVwPAU+RMpMCVArNPX/mNoEUAkewC+mXL8v3zcNZ34qBxAbJ9GQzuZJECw+i5bUlEIwHyC8IQEhve/mLgLaOYv7T+YsacIqgv0P7FT7j1ucx3AqopkgsJDH0CgrJ8H3IMjQPrZNdc3awtAkIR12b0d77862bafvFwCwPFy6DSFlxDAzvJ6/yvgFkDsIKFL5d0MQJaByhDCOA7AALLtoTOriz/of+XnI5cJwPBT9DERRA5Aom6qRV3cGEBADucbMdDuP8A6PVXO8sS/ItPK5Ia4BsBDfWiufNYVQG9cl9U91xTA8+s5aiJ+EUBAP9EfUbHGv04KcP8FpiXAq4o0Zm0zF8CUQdgUTIEVwFARvDC9MwfAa5N6cFfCEUAcMnkP5pzzv+Nd+3L5axbAtZD315Q4GEBgW34MVxUgwOr86JIw4gBAmckIVdbEGcCIOSqXR3rrP8BLpFGfkP2/kp0OHG6FGUDCe2x8sXoNQEyjfebBBiNAKOpzXw+04b8sr7qNojDwv5D/L2vsLSFAqAm++iBq7D+iQ75wTIsBQLQYrva6i/I/gGaU8oOx2b+od4kD2ewTwG4KxSnOmwbA2BjhEkaaHEBUO7LlxMwXwMYraYin/QfAvOE0c7e18L9g4PC4aKD4P/njlzXDuR/ABApk6lmYA0D+70ntT8glQOAmse4qePy/+vuZy65lAEA=",
          "dtype": "f8"
         }
        }
       ],
       "layout": {
        "template": {
         "data": {
          "bar": [
           {
            "error_x": {
             "color": "#2a3f5f"
            },
            "error_y": {
             "color": "#2a3f5f"
            },
            "marker": {
             "line": {
              "color": "#E5ECF6",
              "width": 0.5
             },
             "pattern": {
              "fillmode": "overlay",
              "size": 10,
              "solidity": 0.2
             }
            },
            "type": "bar"
           }
          ],
          "barpolar": [
           {
            "marker": {
             "line": {
              "color": "#E5ECF6",
              "width": 0.5
             },
             "pattern": {
              "fillmode": "overlay",
              "size": 10,
              "solidity": 0.2
             }
            },
            "type": "barpolar"
           }
          ],
          "carpet": [
           {
            "aaxis": {
             "endlinecolor": "#2a3f5f",
             "gridcolor": "white",
             "linecolor": "white",
             "minorgridcolor": "white",
             "startlinecolor": "#2a3f5f"
            },
            "baxis": {
             "endlinecolor": "#2a3f5f",
             "gridcolor": "white",
             "linecolor": "white",
             "minorgridcolor": "white",
             "startlinecolor": "#2a3f5f"
            },
            "type": "carpet"
           }
          ],
          "choropleth": [
           {
            "colorbar": {
             "outlinewidth": 0,
             "ticks": ""
            },
            "type": "choropleth"
           }
          ],
          "contour": [
           {
            "colorbar": {
             "outlinewidth": 0,
             "ticks": ""
            },
            "colorscale": [
             [
              0,
              "#0d0887"
             ],
             [
              0.1111111111111111,
              "#46039f"
             ],
             [
              0.2222222222222222,
              "#7201a8"
             ],
             [
              0.3333333333333333,
              "#9c179e"
             ],
             [
              0.4444444444444444,
              "#bd3786"
             ],
             [
              0.5555555555555556,
              "#d8576b"
             ],
             [
              0.6666666666666666,
              "#ed7953"
             ],
             [
              0.7777777777777778,
              "#fb9f3a"
             ],
             [
              0.8888888888888888,
              "#fdca26"
             ],
             [
              1,
              "#f0f921"
             ]
            ],
            "type": "contour"
           }
          ],
          "contourcarpet": [
           {
            "colorbar": {
             "outlinewidth": 0,
             "ticks": ""
            },
            "type": "contourcarpet"
           }
          ],
          "heatmap": [
           {
            "colorbar": {
             "outlinewidth": 0,
             "ticks": ""
            },
            "colorscale": [
             [
              0,
              "#0d0887"
             ],
             [
              0.1111111111111111,
              "#46039f"
             ],
             [
              0.2222222222222222,
              "#7201a8"
             ],
             [
              0.3333333333333333,
              "#9c179e"
             ],
             [
              0.4444444444444444,
              "#bd3786"
             ],
             [
              0.5555555555555556,
              "#d8576b"
             ],
             [
              0.6666666666666666,
              "#ed7953"
             ],
             [
              0.7777777777777778,
              "#fb9f3a"
             ],
             [
              0.8888888888888888,
              "#fdca26"
             ],
             [
              1,
              "#f0f921"
             ]
            ],
            "type": "heatmap"
           }
          ],
          "histogram": [
           {
            "marker": {
             "pattern": {
              "fillmode": "overlay",
              "size": 10,
              "solidity": 0.2
             }
            },
            "type": "histogram"
           }
          ],
          "histogram2d": [
           {
            "colorbar": {
             "outlinewidth": 0,
             "ticks": ""
            },
            "colorscale": [
             [
              0,
              "#0d0887"
             ],
             [
              0.1111111111111111,
              "#46039f"
             ],
             [
              0.2222222222222222,
              "#7201a8"
             ],
             [
              0.3333333333333333,
              "#9c179e"
             ],
             [
              0.4444444444444444,
              "#bd3786"
             ],
             [
              0.5555555555555556,
              "#d8576b"
             ],
             [
              0.6666666666666666,
              "#ed7953"
             ],
             [
              0.7777777777777778,
              "#fb9f3a"
             ],
             [
              0.8888888888888888,
              "#fdca26"
             ],
             [
              1,
              "#f0f921"
             ]
            ],
            "type": "histogram2d"
           }
          ],
          "histogram2dcontour": [
           {
            "colorbar": {
             "outlinewidth": 0,
             "ticks": ""
            },
            "colorscale": [
             [
              0,
              "#0d0887"
             ],
             [
              0.1111111111111111,
              "#46039f"
             ],
             [
              0.2222222222222222,
              "#7201a8"
             ],
             [
              0.3333333333333333,
              "#9c179e"
             ],
             [
              0.4444444444444444,
              "#bd3786"
             ],
             [
              0.5555555555555556,
              "#d8576b"
             ],
             [
              0.6666666666666666,
              "#ed7953"
             ],
             [
              0.7777777777777778,
              "#fb9f3a"
             ],
             [
              0.8888888888888888,
              "#fdca26"
             ],
             [
              1,
              "#f0f921"
             ]
            ],
            "type": "histogram2dcontour"
           }
          ],
          "mesh3d": [
           {
            "colorbar": {
             "outlinewidth": 0,
             "ticks": ""
            },
            "type": "mesh3d"
           }
          ],
          "parcoords": [
           {
            "line": {
             "colorbar": {
              "outlinewidth": 0,
              "ticks": ""
             }
            },
            "type": "parcoords"
           }
          ],
          "pie": [
           {
            "automargin": true,
            "type": "pie"
           }
          ],
          "scatter": [
           {
            "fillpattern": {
             "fillmode": "overlay",
             "size": 10,
             "solidity": 0.2
            },
            "type": "scatter"
           }
          ],
          "scatter3d": [
           {
            "line": {
             "colorbar": {
              "outlinewidth": 0,
              "ticks": ""
             }
            },
            "marker": {
             "colorbar": {
              "outlinewidth": 0,
              "ticks": ""
             }
            },
            "type": "scatter3d"
           }
          ],
          "scattercarpet": [
           {
            "marker": {
             "colorbar": {
              "outlinewidth": 0,
              "ticks": ""
             }
            },
            "type": "scattercarpet"
           }
          ],
          "scattergeo": [
           {
            "marker": {
             "colorbar": {
              "outlinewidth": 0,
              "ticks": ""
             }
            },
            "type": "scattergeo"
           }
          ],
          "scattergl": [
           {
            "marker": {
             "colorbar": {
              "outlinewidth": 0,
              "ticks": ""
             }
            },
            "type": "scattergl"
           }
          ],
          "scattermap": [
           {
            "marker": {
             "colorbar": {
              "outlinewidth": 0,
              "ticks": ""
             }
            },
            "type": "scattermap"
           }
          ],
          "scattermapbox": [
           {
            "marker": {
             "colorbar": {
              "outlinewidth": 0,
              "ticks": ""
             }
            },
            "type": "scattermapbox"
           }
          ],
          "scatterpolar": [
           {
            "marker": {
             "colorbar": {
              "outlinewidth": 0,
              "ticks": ""
             }
            },
            "type": "scatterpolar"
           }
          ],
          "scatterpolargl": [
           {
            "marker": {
             "colorbar": {
              "outlinewidth": 0,
              "ticks": ""
             }
            },
            "type": "scatterpolargl"
           }
          ],
          "scatterternary": [
           {
            "marker": {
             "colorbar": {
              "outlinewidth": 0,
              "ticks": ""
             }
            },
            "type": "scatterternary"
           }
          ],
          "surface": [
           {
            "colorbar": {
             "outlinewidth": 0,
             "ticks": ""
            },
            "colorscale": [
             [
              0,
              "#0d0887"
             ],
             [
              0.1111111111111111,
              "#46039f"
             ],
             [
              0.2222222222222222,
              "#7201a8"
             ],
             [
              0.3333333333333333,
              "#9c179e"
             ],
             [
              0.4444444444444444,
              "#bd3786"
             ],
             [
              0.5555555555555556,
              "#d8576b"
             ],
             [
              0.6666666666666666,
              "#ed7953"
             ],
             [
              0.7777777777777778,
              "#fb9f3a"
             ],
             [
              0.8888888888888888,
              "#fdca26"
             ],
             [
              1,
              "#f0f921"
             ]
            ],
            "type": "surface"
           }
          ],
          "table": [
           {
            "cells": {
             "fill": {
              "color": "#EBF0F8"
             },
             "line": {
              "color": "white"
             }
            },
            "header": {
             "fill": {
              "color": "#C8D4E3"
             },
             "line": {
              "color": "white"
             }
            },
            "type": "table"
           }
          ]
         },
         "layout": {
          "annotationdefaults": {
           "arrowcolor": "#2a3f5f",
           "arrowhead": 0,
           "arrowwidth": 1
          },
          "autotypenumbers": "strict",
          "coloraxis": {
           "colorbar": {
            "outlinewidth": 0,
            "ticks": ""
           }
          },
          "colorscale": {
           "diverging": [
            [
             0,
             "#8e0152"
            ],
            [
             0.1,
             "#c51b7d"
            ],
            [
             0.2,
             "#de77ae"
            ],
            [
             0.3,
             "#f1b6da"
            ],
            [
             0.4,
             "#fde0ef"
            ],
            [
             0.5,
             "#f7f7f7"
            ],
            [
             0.6,
             "#e6f5d0"
            ],
            [
             0.7,
             "#b8e186"
            ],
            [
             0.8,
             "#7fbc41"
            ],
            [
             0.9,
             "#4d9221"
            ],
            [
             1,
             "#276419"
            ]
           ],
           "sequential": [
            [
             0,
             "#0d0887"
            ],
            [
             0.1111111111111111,
             "#46039f"
            ],
            [
             0.2222222222222222,
             "#7201a8"
            ],
            [
             0.3333333333333333,
             "#9c179e"
            ],
            [
             0.4444444444444444,
             "#bd3786"
            ],
            [
             0.5555555555555556,
             "#d8576b"
            ],
            [
             0.6666666666666666,
             "#ed7953"
            ],
            [
             0.7777777777777778,
             "#fb9f3a"
            ],
            [
             0.8888888888888888,
             "#fdca26"
            ],
            [
             1,
             "#f0f921"
            ]
           ],
           "sequentialminus": [
            [
             0,
             "#0d0887"
            ],
            [
             0.1111111111111111,
             "#46039f"
            ],
            [
             0.2222222222222222,
             "#7201a8"
            ],
            [
             0.3333333333333333,
             "#9c179e"
            ],
            [
             0.4444444444444444,
             "#bd3786"
            ],
            [
             0.5555555555555556,
             "#d8576b"
            ],
            [
             0.6666666666666666,
             "#ed7953"
            ],
            [
             0.7777777777777778,
             "#fb9f3a"
            ],
            [
             0.8888888888888888,
             "#fdca26"
            ],
            [
             1,
             "#f0f921"
            ]
           ]
          },
          "colorway": [
           "#636efa",
           "#EF553B",
           "#00cc96",
           "#ab63fa",
           "#FFA15A",
           "#19d3f3",
           "#FF6692",
           "#B6E880",
           "#FF97FF",
           "#FECB52"
          ],
          "font": {
           "color": "#2a3f5f"
          },
          "geo": {
           "bgcolor": "white",
           "lakecolor": "white",
           "landcolor": "#E5ECF6",
           "showlakes": true,
           "showland": true,
           "subunitcolor": "white"
          },
          "hoverlabel": {
           "align": "left"
          },
          "hovermode": "closest",
          "mapbox": {
           "style": "light"
          },
          "paper_bgcolor": "white",
          "plot_bgcolor": "#E5ECF6",
          "polar": {
           "angularaxis": {
            "gridcolor": "white",
            "linecolor": "white",
            "ticks": ""
           },
           "bgcolor": "#E5ECF6",
           "radialaxis": {
            "gridcolor": "white",
            "linecolor": "white",
            "ticks": ""
           }
          },
          "scene": {
           "xaxis": {
            "backgroundcolor": "#E5ECF6",
            "gridcolor": "white",
            "gridwidth": 2,
            "linecolor": "white",
            "showbackground": true,
            "ticks": "",
            "zerolinecolor": "white"
           },
           "yaxis": {
            "backgroundcolor": "#E5ECF6",
            "gridcolor": "white",
            "gridwidth": 2,
            "linecolor": "white",
            "showbackground": true,
            "ticks": "",
            "zerolinecolor": "white"
           },
           "zaxis": {
            "backgroundcolor": "#E5ECF6",
            "gridcolor": "white",
            "gridwidth": 2,
            "linecolor": "white",
            "showbackground": true,
            "ticks": "",
            "zerolinecolor": "white"
           }
          },
          "shapedefaults": {
           "line": {
            "color": "#2a3f5f"
           }
          },
          "ternary": {
           "aaxis": {
            "gridcolor": "white",
            "linecolor": "white",
            "ticks": ""
           },
           "baxis": {
            "gridcolor": "white",
            "linecolor": "white",
            "ticks": ""
           },
           "bgcolor": "#E5ECF6",
           "caxis": {
            "gridcolor": "white",
            "linecolor": "white",
            "ticks": ""
           }
          },
          "title": {
           "x": 0.05
          },
          "xaxis": {
           "automargin": true,
           "gridcolor": "white",
           "linecolor": "white",
           "ticks": "",
           "title": {
            "standoff": 15
           },
           "zerolinecolor": "white",
           "zerolinewidth": 2
          },
          "yaxis": {
           "automargin": true,
           "gridcolor": "white",
           "linecolor": "white",
           "ticks": "",
           "title": {
            "standoff": 15
           },
           "zerolinecolor": "white",
           "zerolinewidth": 2
          }
         }
        }
       }
      }
     },
     "metadata": {},
     "output_type": "display_data"
    }
   ],
   "source": [
    "# Exercise 5-10\n",
    "import plotly.graph_objects as go\n",
    "\n",
    "# As a matrix with two columns in R3, instead of two separate vectors\n",
    "A = np.array( [ [3,0],\n",
    "                [5,2],\n",
    "                [1,2] ] )\n",
    "\n",
    "# uncomment the line below\n",
    "# A = np.array( [ [3,1.5],\n",
    "#                 [5,2.5],\n",
    "#                 [1, .5] ] )\n",
    "\n",
    "\n",
    "xlim = [-4,4]\n",
    "scalars = np.random.uniform(low=xlim[0],high=xlim[1],size=(100,2))\n",
    "\n",
    "# create random points\n",
    "points = np.zeros((100,3))\n",
    "for i in range(len(scalars)):\n",
    "  points[i,:] = A@scalars[i]\n",
    "\n",
    "# draw the dots in the figure\n",
    "fig = go.Figure( data=[go.Scatter3d(x=points[:,0], y=points[:,1], z=points[:,2], mode='markers')])\n",
    "fig.show()"
   ]
  },
  {
   "cell_type": "code",
   "execution_count": 55,
   "id": "2452b3ba",
   "metadata": {},
   "outputs": [
    {
     "name": "stdout",
     "output_type": "stream",
     "text": [
      "[[1. 1. 1. 1.]\n",
      " [1. 1. 1. 1.]\n",
      " [1. 1. 1. 1.]\n",
      " [1. 1. 1. 1.]]\n",
      "[[ 1.  1.  1.  1.]\n",
      " [ 4.  4.  4.  4.]\n",
      " [ 9.  9.  9.  9.]\n",
      " [16. 16. 16. 16.]]\n",
      "[[ 1.  4.  9. 16.]\n",
      " [ 1.  4.  9. 16.]\n",
      " [ 1.  4.  9. 16.]\n",
      " [ 1.  4.  9. 16.]]\n"
     ]
    }
   ],
   "source": [
    "# Exercise 5-11\n",
    "n = 4\n",
    "\n",
    "A1 = np.ones(16).reshape(n,n)\n",
    "print(A1)\n",
    "\n",
    "D1 = np.diag(np.arange(1, n+1)**2)\n",
    "D2 = np.sqrt(D1)\n",
    "\n",
    "pre = D1@A1\n",
    "post = A1@D1\n",
    "\n",
    "print(pre)\n",
    "print(post)"
   ]
  },
  {
   "cell_type": "code",
   "execution_count": 57,
   "id": "8323bb3c",
   "metadata": {},
   "outputs": [
    {
     "name": "stdout",
     "output_type": "stream",
     "text": [
      "[[ 1.  2.  3.  4.]\n",
      " [ 2.  4.  6.  8.]\n",
      " [ 3.  6.  9. 12.]\n",
      " [ 4.  8. 12. 16.]]\n"
     ]
    }
   ],
   "source": [
    "print(D2@A1@D2)"
   ]
  },
  {
   "cell_type": "markdown",
   "id": "c5ad8e35",
   "metadata": {},
   "source": [
    "# Matrices part 2\n",
    "\n",
    "https://github.com/mikexcohen/LinAlg4DataScience/blob/main/LA4DS_ch06.ipynb"
   ]
  },
  {
   "cell_type": "code",
   "execution_count": 1,
   "id": "a43c7d97",
   "metadata": {},
   "outputs": [],
   "source": [
    "import numpy as np\n",
    "import matplotlib.pyplot as plt\n",
    "\n",
    "# for null spaces\n",
    "import scipy.linalg\n",
    "\n",
    "# a pretty-looking matrix from scipy\n",
    "from scipy.linalg import toeplitz"
   ]
  },
  {
   "cell_type": "code",
   "execution_count": 2,
   "id": "3a738ccf",
   "metadata": {},
   "outputs": [
    {
     "data": {
      "image/png": "[encoded data removed]",
      "text/plain": [
       "<Figure size 600x600 with 1 Axes>"
      ]
     },
     "metadata": {},
     "output_type": "display_data"
    }
   ],
   "source": [
    "# R3\n",
    "# a matrix with two columns in R3\n",
    "A = np.array( [ [3,0],\n",
    "                [5,2],\n",
    "                [1,2] ] )\n",
    "\n",
    "color = [ [0,0,0],[.7,.7,.7] ]\n",
    "\n",
    "# create a 3D graph\n",
    "ax = plt.figure(figsize=(6,6)).add_subplot(111, projection='3d')\n",
    "\n",
    "# draw plane corresponding to the column space\n",
    "xx, yy = np.meshgrid(np.linspace(-5,5,10),np.linspace(-5,5,10))\n",
    "cp = np.cross(A[:,0],A[:,1])\n",
    "z1 = (-cp[0]*xx - cp[1]*yy)/cp[2]\n",
    "ax.plot_surface(xx,yy,z1,alpha=.2)\n",
    "\n",
    "\n",
    "## plot the two vectors from matrix S\n",
    "ax.plot([0, A[0,0]],[0, A[1,0]],[0, A[2,0]],color=color[0],linewidth=4)\n",
    "ax.plot([0, A[0,1]],[0, A[1,1]],[0, A[2,1]],color=color[1],linewidth=4)\n",
    "\n",
    "plt.show()"
   ]
  },
  {
   "cell_type": "code",
   "execution_count": 3,
   "id": "5d23a2f7",
   "metadata": {},
   "outputs": [
    {
     "name": "stdout",
     "output_type": "stream",
     "text": [
      "[[0.70710678]\n",
      " [0.70710678]]\n",
      "[]\n"
     ]
    }
   ],
   "source": [
    "A = np.array([[1,-1],[-2,2]])\n",
    "B = np.array([[1,-1],[-2,3]])\n",
    "\n",
    "print(scipy.linalg.null_space(A))\n",
    "print(scipy.linalg.null_space(B))\n"
   ]
  },
  {
   "cell_type": "code",
   "execution_count": 5,
   "id": "25025bc7",
   "metadata": {},
   "outputs": [
    {
     "data": {
      "text/plain": [
       "np.float64(1.0)"
      ]
     },
     "execution_count": 5,
     "metadata": {},
     "output_type": "execute_result"
    }
   ],
   "source": [
    "np.linalg.det(B)"
   ]
  },
  {
   "cell_type": "code",
   "execution_count": 6,
   "id": "e6097681",
   "metadata": {},
   "outputs": [
    {
     "data": {
      "text/plain": [
       "np.float64(4.47213595499958)"
      ]
     },
     "execution_count": 6,
     "metadata": {},
     "output_type": "execute_result"
    }
   ],
   "source": [
    "np.sqrt(20)"
   ]
  },
  {
   "cell_type": "code",
   "execution_count": 14,
   "id": "ac1efccd",
   "metadata": {},
   "outputs": [
    {
     "data": {
      "text/plain": [
       "[<matplotlib.lines.Line2D at 0x2477e831a90>]"
      ]
     },
     "execution_count": 14,
     "metadata": {},
     "output_type": "execute_result"
    },
    {
     "data": {
      "image/png": "[encoded data removed]",
      "text/plain": [
       "<Figure size 640x480 with 1 Axes>"
      ]
     },
     "metadata": {},
     "output_type": "display_data"
    }
   ],
   "source": [
    "# Exercise 6-1\n",
    "scalingVals = np.linspace(0,50,40) # range of scaling parameters (0 to 50 in 40 steps)\n",
    "#print(scalingVals)\n",
    "nExp = 10\n",
    "\n",
    "# Initialize output\n",
    "matrixNorms = np.zeros((len(scalingVals), nExp))\n",
    "#print(matrixNorms)\n",
    "\n",
    "# Run experiment\n",
    "for i in range(len(scalingVals)):\n",
    "    for exp in range(nExp):\n",
    "\n",
    "        # Random scaled matrix\n",
    "        R = np.random.randn(10,10) * scalingVals[i]\n",
    "\n",
    "        # Store norm\n",
    "        matrixNorms[i, exp] = np.linalg.norm(R, \"fro\")\n",
    "\n",
    "plt.plot(scalingVals, np.mean(matrixNorms, axis=1), 'ko-')"
   ]
  },
  {
   "cell_type": "code",
   "execution_count": 24,
   "id": "845e1782",
   "metadata": {},
   "outputs": [],
   "source": [
    "# Exercise 6-2\n",
    "\n",
    "def euc_distance(M1, M2):\n",
    "    D = M1 - M2\n",
    "    return np.sqrt(np.sum(D**2))"
   ]
  },
  {
   "cell_type": "code",
   "execution_count": 25,
   "id": "36c0f82b",
   "metadata": {},
   "outputs": [
    {
     "name": "stdout",
     "output_type": "stream",
     "text": [
      "Number of iterations: 15\n",
      "Final value of scalar: 0.206\n",
      "Final Euclidean distance: 1.103\n"
     ]
    }
   ],
   "source": [
    "A = np.random.randn(5,5)\n",
    "B = np.random.randn(5,5)\n",
    "\n",
    "euc_distance(A, B)\n",
    "\n",
    "n_iter = 0\n",
    "s = 1\n",
    "while euc_distance(s*A, s*B) > 1:\n",
    "    s = s*0.9\n",
    "    n_iter += 1\n",
    "\n",
    "print(f'Number of iterations: {n_iter-1}')\n",
    "print(f'Final value of scalar: {s/.9:.3f}')\n",
    "print(f'Final Euclidean distance: {euc_distance(s/.9*A,s/.9*B):.3f}')\n",
    "\n"
   ]
  },
  {
   "cell_type": "code",
   "execution_count": 32,
   "id": "b480e8bd",
   "metadata": {},
   "outputs": [
    {
     "name": "stdout",
     "output_type": "stream",
     "text": [
      "[[-1.72550989 -0.36057576  2.39194601  2.5841234  -0.59108201]\n",
      " [ 1.16719643 -0.24881631 -0.46904756 -0.48593625  1.1602384 ]\n",
      " [-0.43676836 -0.26211155  0.06453655 -0.86182004  0.78309071]]\n",
      "4.549947846964894\n",
      "4.549947846964893\n"
     ]
    }
   ],
   "source": [
    "# Exercise 6-3\n",
    "A = np.random.randn(3,5)\n",
    "print(A)\n",
    "\n",
    "print(np.sqrt(np.sum(A**2)))\n",
    "\n",
    "print(np.sqrt(np.sum(np.diag(A@A.T))))"
   ]
  },
  {
   "cell_type": "code",
   "execution_count": 50,
   "id": "86a0632c",
   "metadata": {},
   "outputs": [
    {
     "data": {
      "image/png": "[encoded data removed]",
      "text/plain": [
       "<Figure size 1200x400 with 3 Axes>"
      ]
     },
     "metadata": {},
     "output_type": "display_data"
    }
   ],
   "source": [
    "# Exercise 6-4\n",
    "A = np.random.randn(10,10)\n",
    "\n",
    "fro_norm = np.sqrt(np.sum(A**2))\n",
    "\n",
    "steps = np.linspace(0,1,30)\n",
    "\n",
    "out = np.zeros((30, 3))\n",
    "resultsNames = [ 'Change in norm (%)','Corr. with original','Frobenius distance' ]\n",
    "\n",
    "for i in range(len(steps)):\n",
    "    shifted = A + steps[i]*fro_norm*np.eye(10)\n",
    "\n",
    "    shifted_norm = np.sqrt(np.sum(shifted**2))\n",
    "    out[i,0] = 100*(shifted_norm / fro_norm)\n",
    "    \n",
    "    out[i,1] = np.corrcoef(A.flatten(), shifted.flatten())[0,1]\n",
    "\n",
    "    distance = A - shifted\n",
    "    out[i,2] = np.sqrt(np.sum(distance**2))\n",
    "    \n",
    "_,axs = plt.subplots(1,3,figsize=(12,4))\n",
    "\n",
    "for pi in range(3):\n",
    "  # plot the results\n",
    "  axs[pi].plot(steps,out[:,pi],'ks-')\n",
    "  axs[pi].set_xlabel('Shifting (prop. of norm)')\n",
    "  axs[pi].set_ylabel(resultsNames[pi])\n",
    "\n",
    "plt.tight_layout()\n",
    "plt.show()"
   ]
  },
  {
   "cell_type": "code",
   "execution_count": 53,
   "id": "b1c2095d",
   "metadata": {},
   "outputs": [
    {
     "name": "stdout",
     "output_type": "stream",
     "text": [
      "(5, 8)\n",
      "3\n"
     ]
    }
   ],
   "source": [
    "# Exercise 6-5\n",
    "M = 5\n",
    "N = 8\n",
    "r = 3\n",
    "\n",
    "A = np.random.randn(M,r)@np.random.randn(r,N)\n",
    "print(A.shape)\n",
    "print(np.linalg.matrix_rank(A))"
   ]
  },
  {
   "cell_type": "code",
   "execution_count": 2,
   "id": "e0eaaee5",
   "metadata": {},
   "outputs": [
    {
     "name": "stdout",
     "output_type": "stream",
     "text": [
      "(5, 5)\n",
      "3\n"
     ]
    },
    {
     "data": {
      "image/png": "[encoded data removed]",
      "text/plain": [
       "<Figure size 1000x600 with 4 Axes>"
      ]
     },
     "metadata": {},
     "output_type": "display_data"
    }
   ],
   "source": [
    "# Exercise 6-7\n",
    "def rankAB(M, r):\n",
    "    return(np.random.randn(M,r) @ np.random.randn(r,M))\n",
    "\n",
    "test = rankAB(5,3)\n",
    "print(test.shape)\n",
    "print(np.linalg.matrix_rank(test))\n",
    "\n",
    "rank_vals = range(2,16)\n",
    "\n",
    "# initialize results matrix\n",
    "r_out = np.zeros((len(rank_vals),len(rank_vals),2))\n",
    "\n",
    "for i in range(len(rank_vals)):\n",
    "    for j in range(len(rank_vals)):\n",
    "        \n",
    "        # Create matrices\n",
    "        S = rankAB(20, rank_vals[i]) + rankAB(20, rank_vals[j])\n",
    "        M = rankAB(20, rank_vals[i]) @ rankAB(20, rank_vals[j])\n",
    "\n",
    "        # compute their ranks\n",
    "        r_out[i,j,0] = np.linalg.matrix_rank(S)\n",
    "        r_out[i,j,1] = np.linalg.matrix_rank(M)\n",
    "\n",
    "## visualization\n",
    "fig,axs = plt.subplots(1,2,figsize=(10,6))\n",
    "s = '+@' # symbols for title\n",
    "\n",
    "for i in range(2):\n",
    "\n",
    "  # draw heatmat\n",
    "  h = axs[i].imshow(r_out[:,:,i],vmin=np.min(rank_vals),vmax=np.max(rank_vals),origin='lower',\n",
    "                    extent=(rank_vals[0],rank_vals[-1],rank_vals[0],rank_vals[-1]),cmap='gray')\n",
    "  \n",
    "  # add colorbar and other niceties\n",
    "  fig.colorbar(h,ax=axs[i],fraction=.045)\n",
    "  axs[i].set_xlabel('Rank of A')\n",
    "  axs[i].set_ylabel('Rank of B')\n",
    "  axs[i].set_title(f'Rank of A{s[i]}B')\n",
    "\n",
    "\n",
    "plt.tight_layout()\n",
    "plt.show()"
   ]
  },
  {
   "cell_type": "code",
   "execution_count": 17,
   "id": "eade5337",
   "metadata": {},
   "outputs": [
    {
     "name": "stdout",
     "output_type": "stream",
     "text": [
      "[[-0.3468045  -1.65595011  0.21667375 -1.60493884]\n",
      " [-0.23186173 -0.5600574   0.55007871 -0.04515001]\n",
      " [-0.43863237  0.59142258 -0.74344447  0.49149   ]\n",
      " [-0.77236759  0.28143445  1.30013009  1.02973711]]\n",
      "[[-0.43534626]\n",
      " [-0.12060235]\n",
      " [-0.3616178 ]\n",
      " [-0.66281057]]\n",
      "4\n",
      "4\n"
     ]
    }
   ],
   "source": [
    "# Exercise 6-9\n",
    "A = np.random.randn(4,4)\n",
    "print(A)\n",
    "v = np.random.randn(4,1)\n",
    "print(v)\n",
    "\n",
    "print(np.linalg.matrix_rank(A))\n",
    "print(np.linalg.matrix_rank(np.hstack((A,v))))"
   ]
  },
  {
   "cell_type": "code",
   "execution_count": 88,
   "id": "8772444a",
   "metadata": {},
   "outputs": [
    {
     "data": {
      "image/png": "[encoded data removed]",
      "text/plain": [
       "<Figure size 600x400 with 1 Axes>"
      ]
     },
     "metadata": {},
     "output_type": "display_data"
    }
   ],
   "source": [
    "# Exercise 6-10\n",
    "mat_sizes = np.linspace(3,30,28,dtype=\"int\")\n",
    "\n",
    "det_out = np.zeros(100*len(mat_sizes)).reshape(100,len(mat_sizes))\n",
    "\n",
    "for i in range(len(mat_sizes)):\n",
    "    for j in range(100):\n",
    "        A = np.random.randn(mat_sizes[i], mat_sizes[i])\n",
    "        A[:,mat_sizes[i]-1] = A[:,mat_sizes[i]-2]*2\n",
    "        det_out[j,i] = np.abs(np.linalg.det(A))\n",
    "    \n",
    "det_avgs = np.mean(det_out, axis=0)\n",
    "\n",
    "plt.figure(figsize=(6,4))\n",
    "plt.plot(mat_sizes**2,np.log(np.mean(det_out,axis=0)),'ks-',linewidth=3)\n",
    "plt.xlabel('Number of elements in the matrix')\n",
    "plt.ylabel('Log determinant')\n",
    "plt.title('Empirical determinants of singular matrices')\n",
    "plt.show()\n",
    "\n",
    "\n"
   ]
  }
 ],
 "metadata": {
  "kernelspec": {
   "display_name": "venv",
   "language": "python",
   "name": "python3"
  },
  "language_info": {
   "codemirror_mode": {
    "name": "ipython",
    "version": 3
   },
   "file_extension": ".py",
   "mimetype": "text/x-python",
   "name": "python",
   "nbconvert_exporter": "python",
   "pygments_lexer": "ipython3",
   "version": "3.13.7"
  }
 },
 "nbformat": 4,
 "nbformat_minor": 5
}
