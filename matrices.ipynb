{
 "cells": [
  {
   "cell_type": "markdown",
   "id": "897cd486",
   "metadata": {},
   "source": [
    "# Matrices part I\n",
    "\n",
    "https://github.com/mikexcohen/LinAlg4DataScience/blob/main/LA4DS_ch05.ipynb"
   ]
  },
  {
   "cell_type": "code",
   "execution_count": null,
   "id": "c270555d",
   "metadata": {},
   "outputs": [],
   "source": []
  }
 ],
 "metadata": {
  "language_info": {
   "name": "python"
  }
 },
 "nbformat": 4,
 "nbformat_minor": 5
}
